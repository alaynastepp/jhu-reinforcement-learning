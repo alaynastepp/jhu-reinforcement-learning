{
 "cells": [
  {
   "cell_type": "code",
   "execution_count": 1,
   "metadata": {},
   "outputs": [
    {
     "name": "stdout",
     "output_type": "stream",
     "text": [
      "pygame 2.6.1 (SDL 2.28.4, Python 3.11.7)\n",
      "Hello from the pygame community. https://www.pygame.org/contribute.html\n"
     ]
    }
   ],
   "source": [
    "from agents.QLearning import QLearning\n",
    "from agents.SARSA import SARSA\n",
    "from agents.MonteCarlo import MonteCarlo\n",
    "from alayna_agents.perfect_agent import PerfectAgent\n",
    "import metrics\n",
    "from pongEnv import PongEnv\n",
    "from pongVisualizer import PongVisualizer\n",
    "from main import generate_episode\n",
    "from main import reset_environment\n",
    "from main import run_trials\n",
    "from main import run_trials_with_hyperparams\n",
    "from main import save_agent\n",
    "from main import createDict\n",
    "\n",
    "import os\n",
    "import argparse\n",
    "results = []"
   ]
  },
  {
   "cell_type": "code",
   "execution_count": 2,
   "metadata": {},
   "outputs": [
    {
     "name": "stdout",
     "output_type": "stream",
     "text": [
      "Running trials for <class 'agents.MonteCarlo.MonteCarlo'> with non-default args {'gamma': 0.9, 'alpha': 0.8, 'epsilon': 0.01}\n",
      "\n",
      "Experiment Metrics:\n",
      "====================\n",
      "Average Rewards (last 30 episodes): 195.19\n",
      "Average Win Rate (last 30 episodes): 61.00%\n",
      "Percentage of State-Action Pairs Visited (States 0 to 450): 3.11%\n",
      "Percentage of State-Action Pairs Visited (States 450 to 900): 3.29%\n",
      "====================\n",
      "\n"
     ]
    }
   ],
   "source": [
    "args = argparse.Namespace()\n",
    "args.viz = False\n",
    "args.save = False\n",
    "args.right = True\n",
    "args.left = False\n",
    "args.gamma = 0.9\n",
    "args.alpha = 0.8\n",
    "args.epsilon = 0.01\n",
    "monte_metrics = run_trials(MonteCarlo, args)\n",
    "results.append(createDict(\"Monte Carlo\", MonteCarlo, monte_metrics))"
   ]
  },
  {
   "cell_type": "code",
   "execution_count": 3,
   "metadata": {},
   "outputs": [
    {
     "name": "stdout",
     "output_type": "stream",
     "text": [
      "Running trials for <class 'agents.SARSA.SARSA'> with non-default args {'gamma': 0.5, 'alpha': 0.1, 'epsilon': 0.01}\n",
      "\n",
      "Experiment Metrics:\n",
      "====================\n",
      "Average Rewards (last 30 episodes): 245.31\n",
      "Average Win Rate (last 30 episodes): 82.00%\n",
      "Percentage of State-Action Pairs Visited (States 0 to 450): 0.44%\n",
      "Percentage of State-Action Pairs Visited (States 450 to 900): 1.10%\n",
      "====================\n",
      "\n"
     ]
    }
   ],
   "source": [
    "args = argparse.Namespace()\n",
    "args.viz = False\n",
    "args.save = False\n",
    "args.right = True\n",
    "args.left = False\n",
    "args.gamma = 0.5\n",
    "args.alpha = 0.1\n",
    "args.epsilon = 0.01\n",
    "sarsa_metrics = run_trials(SARSA, args)\n",
    "results.append(createDict(\"SARSA\", SARSA, sarsa_metrics))"
   ]
  },
  {
   "cell_type": "code",
   "execution_count": 4,
   "metadata": {},
   "outputs": [
    {
     "name": "stdout",
     "output_type": "stream",
     "text": [
      "Running trials for <class 'agents.QLearning.QLearning'> with non-default args {'gamma': 0.8, 'alpha': 0.95, 'epsilon': 0.01}\n",
      "\n",
      "Experiment Metrics:\n",
      "====================\n",
      "Average Rewards (last 30 episodes): 128.67\n",
      "Average Win Rate (last 30 episodes): 83.67%\n",
      "Percentage of State-Action Pairs Visited (States 0 to 450): 12.07%\n",
      "Percentage of State-Action Pairs Visited (States 450 to 900): 25.77%\n",
      "====================\n",
      "\n"
     ]
    }
   ],
   "source": [
    "args = argparse.Namespace()\n",
    "args.viz = False\n",
    "args.save = False\n",
    "args.right = True\n",
    "args.left = False\n",
    "args.gamma = 0.8\n",
    "args.alpha = 0.95\n",
    "args.epsilon = 0.01\n",
    "qlearning_metrics = run_trials(QLearning, args)\n",
    "results.append(createDict(\"Q-Learning\", QLearning, qlearning_metrics))"
   ]
  },
  {
   "cell_type": "code",
   "execution_count": 5,
   "metadata": {},
   "outputs": [],
   "source": [
    "import shutil\n",
    "\n",
    "METRICS_PATH = '/Users/steppan1/Desktop/Reinforcement Learning/jhu-reinforcement-learning/final_metrics'\n",
    "\n",
    "if METRICS_PATH:\n",
    "    if not os.path.exists(METRICS_PATH):\n",
    "        os.makedirs(METRICS_PATH)\n",
    "    else:\n",
    "        shutil.rmtree(METRICS_PATH)\n",
    "        os.makedirs(METRICS_PATH)"
   ]
  },
  {
   "cell_type": "code",
   "execution_count": 6,
   "metadata": {},
   "outputs": [],
   "source": [
    "metrics.plot_agent_scores(agent_name=\"Monte Carlo\", agent_scores=monte_metrics[\"avg_scores\"], save_path=METRICS_PATH)\n",
    "metrics.plot_state_visitation(monte_metrics[\"state_visit_percentages\"], \"Monte Carlo\", save_path=METRICS_PATH)\n",
    "metrics.plot_visit_percentage(agent_name=\"Monte Carlo\", visit_count=monte_metrics[\"state_action_visit_count\"], save_path=METRICS_PATH)\n",
    "metrics.plot_mean_visited_states_per_action(visit_count=monte_metrics[\"state_action_visit_count\"], agent_name=\"Monte Carlo\", save_path=METRICS_PATH)\n",
    "metrics.plot_state_action_distribution_logscale(visit_count=monte_metrics[\"state_action_visit_count\"], agent_name=\"Monte Carlo\", save_path=METRICS_PATH)"
   ]
  },
  {
   "cell_type": "code",
   "execution_count": 7,
   "metadata": {},
   "outputs": [],
   "source": [
    "metrics.plot_agent_scores(agent_name=\"SARSA\", agent_scores=sarsa_metrics[\"avg_scores\"], save_path=METRICS_PATH)\n",
    "metrics.plot_state_visitation(sarsa_metrics[\"state_visit_percentages\"], \"SARSA\", save_path=METRICS_PATH)\n",
    "metrics.plot_visit_percentage(agent_name=\"SARSA\", visit_count=sarsa_metrics[\"state_action_visit_count\"], save_path=METRICS_PATH)\n",
    "metrics.plot_mean_visited_states_per_action(visit_count=sarsa_metrics[\"state_action_visit_count\"], agent_name=\"SARSA\", save_path=METRICS_PATH)\n",
    "metrics.plot_state_action_distribution_logscale(visit_count=sarsa_metrics[\"state_action_visit_count\"], agent_name=\"SARSA\", save_path=METRICS_PATH)"
   ]
  },
  {
   "cell_type": "code",
   "execution_count": 8,
   "metadata": {},
   "outputs": [],
   "source": [
    "metrics.plot_agent_scores(agent_name=\"Q-Learning\", agent_scores=qlearning_metrics[\"avg_scores\"], save_path=METRICS_PATH)\n",
    "metrics.plot_state_visitation(qlearning_metrics[\"state_visit_percentages\"], \"Q-Learning\", save_path=METRICS_PATH)\n",
    "metrics.plot_visit_percentage(agent_name=\"Q-Learning\", visit_count=qlearning_metrics[\"state_action_visit_count\"], save_path=METRICS_PATH)\n",
    "metrics.plot_mean_visited_states_per_action(visit_count=qlearning_metrics[\"state_action_visit_count\"], agent_name=\"Q-Learning\", save_path=METRICS_PATH)\n",
    "metrics.plot_state_action_distribution_logscale(visit_count=qlearning_metrics[\"state_action_visit_count\"], agent_name=\"Q-Learning\", save_path=METRICS_PATH)\n"
   ]
  },
  {
   "cell_type": "code",
   "execution_count": 9,
   "metadata": {},
   "outputs": [],
   "source": [
    "labels = [x['label'] for x in results]\n",
    "metrics.plot_winning_percentage(labels, [x['win_rates'] for x in results], save_path=METRICS_PATH)\n",
    "metrics.plot_cumulative_return([x['rewards'] for x in results], labels, save_path=METRICS_PATH)\n",
    "metrics.plot_mean_visited_states_percentage([x['visits'] for x in results], labels, save_path=METRICS_PATH)\n",
    "metrics.plot_all_agents_scores([x['scores'] for x in results], labels, save_path=METRICS_PATH)\n",
    "metrics.plot_all_agents_scores_smoothed([x['scores'] for x in results], labels, save_path=METRICS_PATH)\n",
    "metrics.plot_winning_percentage_over_episodes([x['win_statuses'] for x in results], labels, save_path=METRICS_PATH)\n",
    "metrics.plot_state_action_distribution_all_logscale([x['visits'] for x in results], labels, save_path=METRICS_PATH)\n",
    "metrics.plot_state_visitation_all([x['visit_percentages'] for x in results], labels, save_path=METRICS_PATH)"
   ]
  }
 ],
 "metadata": {
  "kernelspec": {
   "display_name": "base",
   "language": "python",
   "name": "python3"
  },
  "language_info": {
   "codemirror_mode": {
    "name": "ipython",
    "version": 3
   },
   "file_extension": ".py",
   "mimetype": "text/x-python",
   "name": "python",
   "nbconvert_exporter": "python",
   "pygments_lexer": "ipython3",
   "version": "3.11.7"
  }
 },
 "nbformat": 4,
 "nbformat_minor": 2
}
